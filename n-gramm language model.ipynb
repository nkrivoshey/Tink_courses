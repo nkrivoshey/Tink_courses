{
 "cells": [
  {
   "cell_type": "code",
   "execution_count": null,
   "id": "80234a43",
   "metadata": {},
   "outputs": [],
   "source": [
    "import pandas as pd\n",
    "import numpy as np \n",
    "import string \n",
    "import re\n",
    "import sklearn\n",
    "from sklearn.model_selection import train_test_split\n",
    "from sklearn import feature_extraction\n",
    "from sklearn.pipeline import Pipeline\n",
    "from sklearn import linear_model"
   ]
  },
  {
   "cell_type": "code",
   "execution_count": null,
   "id": "89ace161",
   "metadata": {},
   "outputs": [],
   "source": [
    "#блок чтения текста\n",
    "df = pd.read_csv('###',names = ###)\n",
    "# могу предположить, что текст в колонках, индексы идут от 0 и тд"
   ]
  },
  {
   "cell_type": "code",
   "execution_count": null,
   "id": "b0d0901a",
   "metadata": {},
   "outputs": [],
   "source": [
    "# блок с пунктуацией(убираем ее)\n",
    "def del_punct(text):\n",
    "    for pun in string.punctuation:\n",
    "        text = text.replace(pun,'').replace('\\n','')\n",
    "    text = text.lower()\n",
    "    return text"
   ]
  },
  {
   "cell_type": "code",
   "execution_count": null,
   "id": "9bd6db0d",
   "metadata": {},
   "outputs": [],
   "source": [
    "#применяем к нашему тексту,например,который идет в солбце текст(стороки нашей песни,книги,стихотворения и тд)\n",
    "df['Текст'] = df['Текст'].apply(del_punct)\n",
    "df.head()"
   ]
  },
  {
   "cell_type": "code",
   "execution_count": null,
   "id": "89c8758a",
   "metadata": {},
   "outputs": [],
   "source": [
    "# разделяем на тренировочную и тестовую выборку\n",
    "X_train, X_test, Y_train, Y_test = train_test_split(df[],df[])"
   ]
  },
  {
   "cell_type": "code",
   "execution_count": null,
   "id": "5858d462",
   "metadata": {},
   "outputs": [],
   "source": [
    "vector = feature_extraction.text.TfidfVectorizer(ngram_range=(1,1))"
   ]
  },
  {
   "cell_type": "code",
   "execution_count": null,
   "id": "cd0a0c92",
   "metadata": {},
   "outputs": [],
   "source": [
    "model = Pipeline([\n",
    "    ('vector',vector),\n",
    "    ('linmod',linear_model.LogisticRegression())\n",
    "])"
   ]
  },
  {
   "cell_type": "code",
   "execution_count": null,
   "id": "77819e6c",
   "metadata": {},
   "outputs": [],
   "source": [
    "model.fit(X_train,Y_train)\n",
    "pred = model.predict(X_test)"
   ]
  },
  {
   "cell_type": "markdown",
   "id": "303ea7c6",
   "metadata": {},
   "source": [
    "### Лирический отступ\n"
   ]
  },
  {
   "cell_type": "code",
   "execution_count": null,
   "id": "45804b3d",
   "metadata": {},
   "outputs": [],
   "source": [
    "# возможно, эта модель не будет работать корректно, как хотелось, поскольку сделать модель для текста \n",
    "#для меня было в новинку,тк занимаюсь больше на данных\n",
    "# было что то новое, но от таких заданий попасть на ваш курс еще больше подогревает интерес\n",
    "#тк хочется увидеть,узнать,\"пощупать\" много всего интересного\n",
    "#готов учиться, трудиться, заниматься!"
   ]
  }
 ],
 "metadata": {
  "kernelspec": {
   "display_name": "Python 3 (ipykernel)",
   "language": "python",
   "name": "python3"
  },
  "language_info": {
   "codemirror_mode": {
    "name": "ipython",
    "version": 3
   },
   "file_extension": ".py",
   "mimetype": "text/x-python",
   "name": "python",
   "nbconvert_exporter": "python",
   "pygments_lexer": "ipython3",
   "version": "3.9.7"
  }
 },
 "nbformat": 4,
 "nbformat_minor": 5
}
